{
  "nbformat": 4,
  "nbformat_minor": 0,
  "metadata": {
    "colab": {
      "name": "Quartix.ipynb",
      "provenance": []
    },
    "kernelspec": {
      "name": "python3",
      "display_name": "Python 3"
    },
    "language_info": {
      "name": "python"
    }
  },
  "cells": [
    {
      "cell_type": "markdown",
      "metadata": {
        "id": "3CeHv5Swq6wu"
      },
      "source": [
        "Instruções gerais<br />\n",
        "Duração: 45 min<br />\n",
        "Tela compartilhada<br />\n",
        "Clonar este repositório<br />\n",
        "Adicionar soluções para os desafios neste respositório<br />\n",
        "# Desafios<br />\n",
        "##01 - Triângulos<br />\n",
        "Faça um Programa que peça os 3 lados de um triângulo. O programa deverá informar se os valores podem ser um triângulo. Indique, caso os lados formem um triângulo, se o mesmo é: equilátero, isósceles ou escaleno. Dicas: Três lados formam um triângulo quando a soma de quaisquer dois lados for maior que o terceiro; Triângulo Equilátero: três lados iguais; Triângulo Isósceles: quaisquer dois lados iguais; Triângulo Escaleno: três lados diferentes.<br />\n",
        "<br />\n",
        "##02 - Tabuada<br />\n",
        "Desenvolva um gerador de tabuada, capaz de gerar a tabuada de qualquer número inteiro entre 1 a 10. O usuário deve informar de qual número ele deseja ver a tabuada.<br />\n",
        "<br />\n",
        "##03 - Vetores<br />\n",
        "Construir um gerenciador de vetor. Escreva um programa que contenha as seguintes 3 funções:<br />\n",
        "<br />\n",
        "search(v, x): Caso o elemento x esteja no vetor v, retorna o índice correspondente à primeira ocorrência do elemento x no vetor v. Caso contrário, retornará -1.<br />\n",
        "<br />\n",
        "insert(v, x, k): Insere o elemento x na posição de índice k do vetor v. Caso k for superior ou igual ao comprimento do vetor v, preencher as posições até o índice k com o valor 0.<br />\n",
        "<br />\n",
        "remove(v, x): Remove a primeira ocorrência do valor x no vetor v. Retorna -1, caso não haja nenhuma ocorrência.<br />\n",
        "<br />\n",
        "Escreva uma função principal para executar as seguintes instruções:<br />\n",
        "<br />\n",
        "v = [0, -1, -2, -2, -4, -5]<br />\n",
        "rs = search(v, -2)<br />\n",
        "imprime rs<br />\n",
        "rs = search(v, 2)<br />\n",
        "imprime rs<br />\n",
        "insert(v, 2, 3)<br />\n",
        "imprime v<br />\n",
        "insert(v, 10, 10)<br />\n",
        "imprime v<br />\n",
        "rr = remove(v, -2)<br />\n",
        "imprime rr<br />\n",
        "imprime v<br />\n",
        "<br/>\n",
        "##04 - Strings<br />\n",
        "Data por extenso. Faça um programa que solicite a data de nascimento (dd/mm/aaaa) do usuário e imprima a data com o nome do mês por extenso.\n",
        "<br />\n",
        "Data de Nascimento: 29/10/1973<br />\n",
        "Você nasceu em 29 de Outubro de 1973.<br />\n",
        "<br />\n",
        "##05 - Média<br />\n",
        "Faça um programa que leia as notas de N alunos de uma escola e guarde em um vetor NOTAS, calcule e mostre: A média das notas dos alunos. A posição (índice) de todos os alunos que obtiveram nota maior que a média. A quantidade de alunos que tiveram nota menor que a média.<br/>\n",
        "<br/>\n",
        "##06 - Quilos<br />\n",
        "O restaurante “Tudo de Bom” cobra R$ 32,00 pelo quilo de refeição. Escreva um algoritmo que leia o peso do prato montado pelo cliente (em quilos) e imprima o valor a pagar.\n",
        "\n"
      ]
    },
    {
      "cell_type": "markdown",
      "metadata": {
        "id": "Nb050FyffIv3"
      },
      "source": [
        "##02 - Tabuada<br />\n",
        "Desenvolva um gerador de tabuada, capaz de gerar a tabuada de qualquer número inteiro entre 1 a 10. O usuário deve informar de qual número ele deseja ver a tabuada.<br />"
      ]
    },
    {
      "cell_type": "code",
      "metadata": {
        "colab": {
          "base_uri": "https://localhost:8080/"
        },
        "id": "jtXQ3MnEfGhm",
        "outputId": "5521b493-1860-4cb0-dfb2-76a04b77ccb6"
      },
      "source": [
        "print('Bem vindo ao programa dos números')\n",
        "print('Primeiro você deve entrar com o primeiro valor do intervalo ')\n",
        "A = int(input('Primeiro valor '))\n",
        "\n",
        "matriz_B = [A, A+1, A+2, A+3, A+4, A+5, A+6, A+7, A+8, A+9]\n",
        "\n",
        "matriz_saida = []\n",
        "\n",
        "for i in range(10):\n",
        "  saida = []\n",
        "  for j in range(10):\n",
        "    saida.append((A+i)*(A+j))\n",
        "  print(saida)\n",
        "\n"
      ],
      "execution_count": 15,
      "outputs": [
        {
          "output_type": "stream",
          "name": "stdout",
          "text": [
            "Bem vindo ao programa dos números\n",
            "Primeiro você deve entrar com o primeiro valor do intervalo \n",
            "Primeiro valor 11\n",
            "[121, 132, 143, 154, 165, 176, 187, 198, 209, 220]\n",
            "[132, 144, 156, 168, 180, 192, 204, 216, 228, 240]\n",
            "[143, 156, 169, 182, 195, 208, 221, 234, 247, 260]\n",
            "[154, 168, 182, 196, 210, 224, 238, 252, 266, 280]\n",
            "[165, 180, 195, 210, 225, 240, 255, 270, 285, 300]\n",
            "[176, 192, 208, 224, 240, 256, 272, 288, 304, 320]\n",
            "[187, 204, 221, 238, 255, 272, 289, 306, 323, 340]\n",
            "[198, 216, 234, 252, 270, 288, 306, 324, 342, 360]\n",
            "[209, 228, 247, 266, 285, 304, 323, 342, 361, 380]\n",
            "[220, 240, 260, 280, 300, 320, 340, 360, 380, 400]\n"
          ]
        }
      ]
    },
    {
      "cell_type": "markdown",
      "metadata": {
        "id": "sJFEczqKkxqA"
      },
      "source": [
        "##05 - Média<br />\n",
        "Faça um programa que leia as notas de N alunos de uma escola e guarde em um vetor NOTAS, calcule e mostre: A média das notas dos alunos. A posição (índice) de todos os alunos que obtiveram nota maior que a média. A quantidade de alunos que tiveram nota menor que a média.<br/>\n",
        "<br/>"
      ]
    },
    {
      "cell_type": "code",
      "metadata": {
        "colab": {
          "base_uri": "https://localhost:8080/"
        },
        "id": "vB_j9B8Jkx_-",
        "outputId": "c34a5f74-975d-4096-b580-2138d2cc0f18"
      },
      "source": [
        "def media(n_): # Saida da media das notas\n",
        "  soma = 0\n",
        "  for i in range(len(n_)):\n",
        "    soma += n_[i]\n",
        "  saida = soma/len(n_)\n",
        "  print('A média das notas é ', saida)\n",
        "  return saida \n",
        "\n",
        "def pem(n_, med_): # Classificação dos alunos\n",
        "  saida_p = [] # Saida acima da media \n",
        "  saida_m = [] # Saida abaixo da media \n",
        "  for i in range(len(n_)):\n",
        "    if (n_[i] < med_):\n",
        "      saida_m.append([i])\n",
        "    else:\n",
        "      saida_p.append([i])\n",
        "  print('Os alunos que obtiveram nota maior que a média são')\n",
        "  print(saida_p)\n",
        "  print('Os alunos que obtiveram nota menor que a média são')\n",
        "  print(saida_m)\n",
        "#  print('Temos um total de notas acima da media de ', len(saida_p))\n",
        "  print('Temos um total de notas abaixo da media de ', len(saida_m))\n",
        "\n",
        "\n",
        "A = int(input('Qual o número de alunos? '))\n",
        "\n",
        "N = []\n",
        "for i in range(A):\n",
        "  N.append(int(input('Nota do aluno ' + str(i+1) + ': '))) # Arr com todas as notas\n",
        "\n",
        "B = media(N)  # B se torna um numero com a média\n",
        "pem(N, B)\n",
        "\n"
      ],
      "execution_count": 33,
      "outputs": [
        {
          "output_type": "stream",
          "name": "stdout",
          "text": [
            "Qual o número de alunos? 1\n",
            "Nota do aluno 1: 1\n",
            "A média das notas é  1.0\n",
            "Os alunos que obtiveram nota maior que a média são\n",
            "[[0]]\n",
            "Os alunos que obtiveram nota menor que a média são\n",
            "[]\n",
            "Temos um total de notas abaixo da media de  0\n"
          ]
        }
      ]
    },
    {
      "cell_type": "markdown",
      "metadata": {
        "id": "cjmOvCrLpiS_"
      },
      "source": [
        "##06 - Quilos<br />\n",
        "O restaurante “Tudo de Bom” cobra R$ 32,00 pelo quilo de refeição. Escreva um algoritmo que leia o peso do prato montado pelo cliente (em quilos) e imprima o valor a pagar."
      ]
    },
    {
      "cell_type": "code",
      "metadata": {
        "id": "9y38TNMvpj3_"
      },
      "source": [
        "def valor(p_):\n",
        "  p_*"
      ],
      "execution_count": null,
      "outputs": []
    }
  ]
}